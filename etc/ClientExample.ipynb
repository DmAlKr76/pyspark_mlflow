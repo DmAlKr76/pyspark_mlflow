{
 "cells": [
  {
   "cell_type": "code",
   "execution_count": 1,
   "id": "4c8c6605-8854-4986-b81d-880afe3a3798",
   "metadata": {},
   "outputs": [],
   "source": [
    "import os\n",
    "import datetime\n",
    "os.environ['MLFLOW_S3_ENDPOINT_URL'] = 'https://storage.yandexcloud.net'\n",
    "os.environ['AWS_ACCESS_KEY_ID'] = '33kU43UzyCYfV1jgKUPL'\n",
    "os.environ['AWS_SECRET_ACCESS_KEY'] = 'WPZnfkNEOlpdZ32hwVGhQ6PNiPPjmFZEajnWUMRe'"
   ]
  },
  {
   "cell_type": "code",
   "execution_count": 2,
   "id": "caab3e7e-185e-4613-87d6-286b2016966a",
   "metadata": {},
   "outputs": [],
   "source": [
    "import mlflow\n",
    "from mlflow.tracking import MlflowClient"
   ]
  },
  {
   "cell_type": "code",
   "execution_count": 3,
   "id": "c030a1cb-2050-4555-90c4-bbf231cf0ef3",
   "metadata": {},
   "outputs": [],
   "source": [
    "mlflow.set_tracking_uri(\"https://mlflow.lab.karpov.courses\")"
   ]
  },
  {
   "cell_type": "code",
   "execution_count": 4,
   "id": "66ceda64-2276-4da9-9cce-d749eba50869",
   "metadata": {},
   "outputs": [],
   "source": [
    "client = MlflowClient()"
   ]
  },
  {
   "cell_type": "markdown",
   "id": "d9dee51c-8a39-4ec4-b61b-fe8fd295bd81",
   "metadata": {
    "jp-MarkdownHeadingCollapsed": true,
    "tags": []
   },
   "source": [
    "### Experiments"
   ]
  },
  {
   "cell_type": "code",
   "execution_count": 7,
   "id": "c1cd5448-79be-4c7d-a0eb-221417ecdeea",
   "metadata": {},
   "outputs": [
    {
     "data": {
      "text/plain": [
       "[<Experiment: artifact_location='s3://kc-mlflow/12', experiment_id='12', lifecycle_stage='active', name='PySpark-ML', tags={}>,\n",
       " <Experiment: artifact_location='s3://kc-mlflow/15', experiment_id='15', lifecycle_stage='active', name='PySpark-ML-Auto', tags={}>,\n",
       " <Experiment: artifact_location='s3://kc-mlflow/19', experiment_id='19', lifecycle_stage='active', name='DriverClassification', tags={}>,\n",
       " <Experiment: artifact_location='s3://kc-mlflow/20', experiment_id='20', lifecycle_stage='active', name='a.savchenko', tags={}>]"
      ]
     },
     "execution_count": 7,
     "metadata": {},
     "output_type": "execute_result"
    }
   ],
   "source": [
    "client.list_experiments()"
   ]
  },
  {
   "cell_type": "code",
   "execution_count": 9,
   "id": "50ab44b5-61eb-448d-95ba-4266feb0dc48",
   "metadata": {},
   "outputs": [
    {
     "data": {
      "text/plain": [
       "<Experiment: artifact_location='s3://kc-mlflow/12', experiment_id='12', lifecycle_stage='active', name='PySpark-ML', tags={}>"
      ]
     },
     "execution_count": 9,
     "metadata": {},
     "output_type": "execute_result"
    }
   ],
   "source": [
    "exp = client.get_experiment_by_name('PySpark-ML')\n",
    "exp"
   ]
  },
  {
   "cell_type": "code",
   "execution_count": 10,
   "id": "59d60c4a-046b-4792-a223-eb261613d484",
   "metadata": {},
   "outputs": [
    {
     "data": {
      "text/plain": [
       "[<RunInfo: artifact_uri='s3://kc-mlflow/12/1ce9927f22a14719a2783875e4a159a6/artifacts', end_time=1637596278801, experiment_id='12', lifecycle_stage='active', run_id='1ce9927f22a14719a2783875e4a159a6', run_uuid='1ce9927f22a14719a2783875e4a159a6', start_time=1637596252449, status='FINISHED', user_id='karpov'>,\n",
       " <RunInfo: artifact_uri='s3://kc-mlflow/12/79d1b47e4ea147ac93c2ecdbc0660888/artifacts', end_time=1637493591304, experiment_id='12', lifecycle_stage='active', run_id='79d1b47e4ea147ac93c2ecdbc0660888', run_uuid='79d1b47e4ea147ac93c2ecdbc0660888', start_time=1637493056487, status='FINISHED', user_id='karpov'>,\n",
       " <RunInfo: artifact_uri='s3://kc-mlflow/12/0c0b11ef0d0548909c1f866776d50bea/artifacts', end_time=1637492169054, experiment_id='12', lifecycle_stage='active', run_id='0c0b11ef0d0548909c1f866776d50bea', run_uuid='0c0b11ef0d0548909c1f866776d50bea', start_time=1637492140948, status='FINISHED', user_id='karpov'>,\n",
       " <RunInfo: artifact_uri='s3://kc-mlflow/12/6c0c2e3da3aa4c0e87198a4726e9002a/artifacts', end_time=1637447587351, experiment_id='12', lifecycle_stage='active', run_id='6c0c2e3da3aa4c0e87198a4726e9002a', run_uuid='6c0c2e3da3aa4c0e87198a4726e9002a', start_time=1637447562254, status='FINISHED', user_id='karpov'>,\n",
       " <RunInfo: artifact_uri='s3://kc-mlflow/12/109b758056cb48b5b9ad92d0d70e3566/artifacts', end_time=1637359515339, experiment_id='12', lifecycle_stage='active', run_id='109b758056cb48b5b9ad92d0d70e3566', run_uuid='109b758056cb48b5b9ad92d0d70e3566', start_time=1637359488720, status='FINISHED', user_id='karpov'>,\n",
       " <RunInfo: artifact_uri='s3://kc-mlflow/12/ba5eeb76a4544305bb0686e524acf443/artifacts', end_time=1637116563230, experiment_id='12', lifecycle_stage='active', run_id='ba5eeb76a4544305bb0686e524acf443', run_uuid='ba5eeb76a4544305bb0686e524acf443', start_time=1637116537975, status='FINISHED', user_id='karpov'>,\n",
       " <RunInfo: artifact_uri='s3://kc-mlflow/12/3f1a65e9d6da477c892609764492217f/artifacts', end_time=1637116004907, experiment_id='12', lifecycle_stage='active', run_id='3f1a65e9d6da477c892609764492217f', run_uuid='3f1a65e9d6da477c892609764492217f', start_time=1637115977957, status='FINISHED', user_id='karpov'>,\n",
       " <RunInfo: artifact_uri='s3://kc-mlflow/12/322c704040874396b44a478d6ecbfca2/artifacts', end_time=1637114647594, experiment_id='12', lifecycle_stage='active', run_id='322c704040874396b44a478d6ecbfca2', run_uuid='322c704040874396b44a478d6ecbfca2', start_time=1637114622196, status='FINISHED', user_id='karpov'>,\n",
       " <RunInfo: artifact_uri='s3://kc-mlflow/12/b22884d8b3264f62863a26864b68cd2c/artifacts', end_time=1637113042363, experiment_id='12', lifecycle_stage='active', run_id='b22884d8b3264f62863a26864b68cd2c', run_uuid='b22884d8b3264f62863a26864b68cd2c', start_time=1637112974713, status='FINISHED', user_id='karpov'>,\n",
       " <RunInfo: artifact_uri='s3://kc-mlflow/12/83eac60d48404ea592402a1b9e7d31f9/artifacts', end_time=1637112961379, experiment_id='12', lifecycle_stage='active', run_id='83eac60d48404ea592402a1b9e7d31f9', run_uuid='83eac60d48404ea592402a1b9e7d31f9', start_time=1637111661864, status='FINISHED', user_id='karpov'>,\n",
       " <RunInfo: artifact_uri='s3://kc-mlflow/12/4c862789e5c74621b1b27a9f0c31cdd0/artifacts', end_time=1637111651226, experiment_id='12', lifecycle_stage='active', run_id='4c862789e5c74621b1b27a9f0c31cdd0', run_uuid='4c862789e5c74621b1b27a9f0c31cdd0', start_time=1637111375608, status='FINISHED', user_id='karpov'>]"
      ]
     },
     "execution_count": 10,
     "metadata": {},
     "output_type": "execute_result"
    }
   ],
   "source": [
    "client.list_run_infos(exp.experiment_id)"
   ]
  },
  {
   "cell_type": "code",
   "execution_count": 12,
   "id": "d223bc1e-4f8f-431d-8640-5b49fb36d9ba",
   "metadata": {},
   "outputs": [
    {
     "data": {
      "text/plain": [
       "<RunInfo: artifact_uri='s3://kc-mlflow/12/1ce9927f22a14719a2783875e4a159a6/artifacts', end_time=1637596278801, experiment_id='12', lifecycle_stage='active', run_id='1ce9927f22a14719a2783875e4a159a6', run_uuid='1ce9927f22a14719a2783875e4a159a6', start_time=1637596252449, status='FINISHED', user_id='karpov'>"
      ]
     },
     "execution_count": 12,
     "metadata": {},
     "output_type": "execute_result"
    }
   ],
   "source": [
    "run_info = client.list_run_infos(exp.experiment_id)[0]\n",
    "run_info"
   ]
  },
  {
   "cell_type": "code",
   "execution_count": 13,
   "id": "89d25fe7-46e6-4c93-a65f-b0116f4effd7",
   "metadata": {},
   "outputs": [],
   "source": [
    "run_id = run_info.run_id"
   ]
  },
  {
   "cell_type": "code",
   "execution_count": 14,
   "id": "58fbabc2-1a9a-40ff-b4ea-75ae6a511589",
   "metadata": {},
   "outputs": [
    {
     "data": {
      "text/plain": [
       "<Run: data=<RunData: metrics={'accuracy': 0.8342541436464088, 'f1': 0.8319889038097847}, params={'Impurity': '0.0',\n",
       " 'MaxDepth': '5',\n",
       " 'MaxNumTrees': '32',\n",
       " 'stage_0_input': 'Sex',\n",
       " 'stage_0_output': 'Sex_index',\n",
       " 'stage_0_type': 'StringIndexerModel: uid=StringIndexer_94c0acf948b2, '\n",
       "                 'handleInvalid=error',\n",
       " 'stage_1_input': 'Embarked',\n",
       " 'stage_1_output': 'Embarked_index',\n",
       " 'stage_1_type': 'StringIndexerModel: uid=StringIndexer_24bbdb026aab, '\n",
       "                 'handleInvalid=error',\n",
       " 'stage_2_input': \"['Pclass', 'Age', 'SibSp', 'Parch', 'Fare', 'Family_Size', \"\n",
       "                  \"'Embarked_index', 'Sex_index']\",\n",
       " 'stage_2_output': 'features',\n",
       " 'stage_2_type': 'VectorAssembler_a58911a1b434',\n",
       " 'stage_3_features': 'features',\n",
       " 'stage_3_label': 'Survived',\n",
       " 'stage_3_type': 'RandomForestClassificationModel: '\n",
       "                 'uid=RandomForestClassifier_133e673a5a2d, numTrees=20, '\n",
       "                 'numClasses=2, numFeatures=8'}, tags={'mlflow.log-model.history': '[{\"run_id\": \"1ce9927f22a14719a2783875e4a159a6\", '\n",
       "                             '\"artifact_path\": \"spark-model\", '\n",
       "                             '\"utc_time_created\": \"2021-11-22 '\n",
       "                             '15:51:07.090670\", \"flavors\": {\"spark\": '\n",
       "                             '{\"pyspark_version\": \"3.1.2\", \"model_data\": '\n",
       "                             '\"sparkml\"}, \"python_function\": {\"loader_module\": '\n",
       "                             '\"mlflow.spark\", \"python_version\": \"3.8.10\", '\n",
       "                             '\"data\": \"sparkml\", \"env\": \"conda.yaml\"}}}]',\n",
       " 'mlflow.source.name': '/nfs/env/lib/python3.8/site-packages/ipykernel_launcher.py',\n",
       " 'mlflow.source.type': 'LOCAL',\n",
       " 'mlflow.user': 'karpov'}>, info=<RunInfo: artifact_uri='s3://kc-mlflow/12/1ce9927f22a14719a2783875e4a159a6/artifacts', end_time=1637596278801, experiment_id='12', lifecycle_stage='active', run_id='1ce9927f22a14719a2783875e4a159a6', run_uuid='1ce9927f22a14719a2783875e4a159a6', start_time=1637596252449, status='FINISHED', user_id='karpov'>>"
      ]
     },
     "execution_count": 14,
     "metadata": {},
     "output_type": "execute_result"
    }
   ],
   "source": [
    "run = client.get_run(run_id)\n",
    "run"
   ]
  },
  {
   "cell_type": "code",
   "execution_count": 20,
   "id": "52df3bdb-0969-4475-b6b6-7774da0fe296",
   "metadata": {},
   "outputs": [
    {
     "data": {
      "text/plain": [
       "{'accuracy': 0.8342541436464088, 'f1': 0.8319889038097847}"
      ]
     },
     "execution_count": 20,
     "metadata": {},
     "output_type": "execute_result"
    }
   ],
   "source": [
    "run.data.metrics"
   ]
  },
  {
   "cell_type": "code",
   "execution_count": 21,
   "id": "ef829f40-ba3e-4887-a6a9-366d9c603c1a",
   "metadata": {},
   "outputs": [
    {
     "data": {
      "text/plain": [
       "{'stage_1_type': 'StringIndexerModel: uid=StringIndexer_24bbdb026aab, handleInvalid=error',\n",
       " 'stage_2_input': \"['Pclass', 'Age', 'SibSp', 'Parch', 'Fare', 'Family_Size', 'Embarked_index', 'Sex_index']\",\n",
       " 'stage_3_type': 'RandomForestClassificationModel: uid=RandomForestClassifier_133e673a5a2d, numTrees=20, numClasses=2, numFeatures=8',\n",
       " 'stage_3_label': 'Survived',\n",
       " 'MaxNumTrees': '32',\n",
       " 'Impurity': '0.0',\n",
       " 'stage_0_type': 'StringIndexerModel: uid=StringIndexer_94c0acf948b2, handleInvalid=error',\n",
       " 'stage_0_output': 'Sex_index',\n",
       " 'stage_1_output': 'Embarked_index',\n",
       " 'stage_0_input': 'Sex',\n",
       " 'stage_1_input': 'Embarked',\n",
       " 'stage_2_type': 'VectorAssembler_a58911a1b434',\n",
       " 'stage_2_output': 'features',\n",
       " 'stage_3_features': 'features',\n",
       " 'MaxDepth': '5'}"
      ]
     },
     "execution_count": 21,
     "metadata": {},
     "output_type": "execute_result"
    }
   ],
   "source": [
    "run.data.params"
   ]
  },
  {
   "cell_type": "markdown",
   "id": "af7c2ed1-ce59-46b0-a47c-a8226c912100",
   "metadata": {
    "jp-MarkdownHeadingCollapsed": true,
    "tags": []
   },
   "source": [
    "### Models"
   ]
  },
  {
   "cell_type": "code",
   "execution_count": 26,
   "id": "6f0dfc6b-a881-44c1-ab9e-3b14c87b9939",
   "metadata": {},
   "outputs": [
    {
     "data": {
      "text/plain": [
       "<RegisteredModel: creation_timestamp=1637601159393, description='', last_updated_timestamp=1637674821924, latest_versions=[<ModelVersion: creation_timestamp=1637601159976, current_stage='Archived', description='', last_updated_timestamp=1637674821924, name='a.savchenko', run_id='fe578a44f72d4a5a91e79f9078dec2e9', run_link='', source='s3://kc-mlflow/20/fe578a44f72d4a5a91e79f9078dec2e9/artifacts/a.savchenko', status='READY', status_message='', tags={}, user_id='', version='1'>,\n",
       " <ModelVersion: creation_timestamp=1637615574769, current_stage='None', description='', last_updated_timestamp=1637615574769, name='a.savchenko', run_id='8aa9e8b575bd45448c0a71adc471dd84', run_link='', source='s3://kc-mlflow/20/8aa9e8b575bd45448c0a71adc471dd84/artifacts/a.savchenko', status='READY', status_message='', tags={}, user_id='', version='4'>,\n",
       " <ModelVersion: creation_timestamp=1637615859050, current_stage='Production', description='', last_updated_timestamp=1637674273351, name='a.savchenko', run_id='5b1a4525fb1448abaf909f784f201678', run_link='', source='s3://kc-mlflow/20/5b1a4525fb1448abaf909f784f201678/artifacts/a.savchenko', status='READY', status_message='', tags={}, user_id='', version='5'>], name='a.savchenko', tags={}>"
      ]
     },
     "execution_count": 26,
     "metadata": {},
     "output_type": "execute_result"
    }
   ],
   "source": [
    "last_models = client.list_registered_models()\n",
    "reg_model = last_models[0]\n",
    "reg_model"
   ]
  },
  {
   "cell_type": "code",
   "execution_count": 27,
   "id": "3d00966c-5b80-4a17-8ca6-19dde14bc067",
   "metadata": {},
   "outputs": [
    {
     "data": {
      "text/plain": [
       "[<ModelVersion: creation_timestamp=1637601159976, current_stage='Archived', description='', last_updated_timestamp=1637674821924, name='a.savchenko', run_id='fe578a44f72d4a5a91e79f9078dec2e9', run_link='', source='s3://kc-mlflow/20/fe578a44f72d4a5a91e79f9078dec2e9/artifacts/a.savchenko', status='READY', status_message='', tags={}, user_id='', version='1'>,\n",
       " <ModelVersion: creation_timestamp=1637615574769, current_stage='None', description='', last_updated_timestamp=1637615574769, name='a.savchenko', run_id='8aa9e8b575bd45448c0a71adc471dd84', run_link='', source='s3://kc-mlflow/20/8aa9e8b575bd45448c0a71adc471dd84/artifacts/a.savchenko', status='READY', status_message='', tags={}, user_id='', version='4'>,\n",
       " <ModelVersion: creation_timestamp=1637615859050, current_stage='Production', description='', last_updated_timestamp=1637674273351, name='a.savchenko', run_id='5b1a4525fb1448abaf909f784f201678', run_link='', source='s3://kc-mlflow/20/5b1a4525fb1448abaf909f784f201678/artifacts/a.savchenko', status='READY', status_message='', tags={}, user_id='', version='5'>]"
      ]
     },
     "execution_count": 27,
     "metadata": {},
     "output_type": "execute_result"
    }
   ],
   "source": [
    "reg_model.latest_versions"
   ]
  },
  {
   "cell_type": "code",
   "execution_count": 28,
   "id": "cbba38eb-2548-4501-a9f4-529685df2923",
   "metadata": {},
   "outputs": [],
   "source": [
    "def get_last_prod_model(name):\n",
    "    last_models = client.get_registered_model(name).latest_versions\n",
    "    models = list(filter(lambda x: x.current_stage == 'Production', last_models))\n",
    "    if len(models) == 0:\n",
    "        return None\n",
    "    else:\n",
    "        return models[0]"
   ]
  },
  {
   "cell_type": "code",
   "execution_count": 32,
   "id": "3181feb6-ba77-4f3a-97a5-664aedc3b073",
   "metadata": {},
   "outputs": [
    {
     "data": {
      "text/plain": [
       "<ModelVersion: creation_timestamp=1637493454514, current_stage='Production', description='', last_updated_timestamp=1637493760891, name='spark-model', run_id='79d1b47e4ea147ac93c2ecdbc0660888', run_link='', source='s3://kc-mlflow/12/79d1b47e4ea147ac93c2ecdbc0660888/artifacts/spark-model', status='READY', status_message='', tags={}, user_id='', version='25'>"
      ]
     },
     "execution_count": 32,
     "metadata": {},
     "output_type": "execute_result"
    }
   ],
   "source": [
    "model_version = get_last_prod_model('spark-model')\n",
    "model_version"
   ]
  },
  {
   "cell_type": "code",
   "execution_count": 37,
   "id": "21fa0e00-3d86-49d3-a020-40413da98bc7",
   "metadata": {},
   "outputs": [
    {
     "data": {
      "text/plain": [
       "'25'"
      ]
     },
     "execution_count": 37,
     "metadata": {},
     "output_type": "execute_result"
    }
   ],
   "source": [
    "model_version.version"
   ]
  },
  {
   "cell_type": "markdown",
   "id": "8086efaf-f24b-4192-a7a5-23c5e631cbc2",
   "metadata": {
    "jp-MarkdownHeadingCollapsed": true,
    "tags": []
   },
   "source": [
    "### Load model"
   ]
  },
  {
   "cell_type": "code",
   "execution_count": 36,
   "id": "890c02a8-bcb5-4a4a-b911-94db22f4fdca",
   "metadata": {},
   "outputs": [
    {
     "name": "stderr",
     "output_type": "stream",
     "text": [
      "WARNING: An illegal reflective access operation has occurred\n",
      "WARNING: Illegal reflective access by org.apache.spark.unsafe.Platform (file:/nfs/env/lib/python3.8/site-packages/pyspark/jars/spark-unsafe_2.12-3.1.2.jar) to constructor java.nio.DirectByteBuffer(long,int)\n",
      "WARNING: Please consider reporting this to the maintainers of org.apache.spark.unsafe.Platform\n",
      "WARNING: Use --illegal-access=warn to enable warnings of further illegal reflective access operations\n",
      "WARNING: All illegal access operations will be denied in a future release\n",
      "21/11/23 14:09:14 WARN NativeCodeLoader: Unable to load native-hadoop library for your platform... using builtin-java classes where applicable\n",
      "Using Spark's default log4j profile: org/apache/spark/log4j-defaults.properties\n",
      "Setting default log level to \"WARN\".\n",
      "To adjust logging level use sc.setLogLevel(newLevel). For SparkR, use setLogLevel(newLevel).\n"
     ]
    }
   ],
   "source": [
    "from pyspark.sql import SparkSession\n",
    "spark = SparkSession.builder.appName(\"PySparkMLFlowClient\").getOrCreate()"
   ]
  },
  {
   "cell_type": "code",
   "execution_count": 38,
   "id": "cde89b34-fe83-4beb-a7bb-b96d92ff1ec1",
   "metadata": {},
   "outputs": [
    {
     "name": "stderr",
     "output_type": "stream",
     "text": [
      "2021/11/23 14:09:38 INFO mlflow.spark: 'models:/spark-model/25' resolved as 's3://kc-mlflow/12/79d1b47e4ea147ac93c2ecdbc0660888/artifacts/spark-model'\n",
      "2021/11/23 14:09:40 INFO mlflow.spark: URI 's3://kc-mlflow/12/79d1b47e4ea147ac93c2ecdbc0660888/artifacts/spark-model/sparkml' does not point to the current DFS.\n",
      "2021/11/23 14:09:40 INFO mlflow.spark: File 's3://kc-mlflow/12/79d1b47e4ea147ac93c2ecdbc0660888/artifacts/spark-model/sparkml' not found on DFS. Will attempt to upload the file.\n",
      "                                                                                \r"
     ]
    }
   ],
   "source": [
    "from pyspark.sql.functions import *\n",
    "model = mlflow.spark.load_model(f'models:/spark-model/{model_version.version}')"
   ]
  },
  {
   "cell_type": "code",
   "execution_count": 39,
   "id": "89d3d72a-d120-438c-9b28-d5e0c1a98704",
   "metadata": {},
   "outputs": [
    {
     "data": {
      "text/plain": [
       "pyspark.ml.pipeline.PipelineModel"
      ]
     },
     "execution_count": 39,
     "metadata": {},
     "output_type": "execute_result"
    }
   ],
   "source": [
    "type(model)"
   ]
  },
  {
   "cell_type": "code",
   "execution_count": 40,
   "id": "fe46b52d-654d-4659-8c5a-bd81b865a63d",
   "metadata": {},
   "outputs": [
    {
     "name": "stderr",
     "output_type": "stream",
     "text": [
      "2021/11/23 14:16:59 INFO mlflow.spark: 'runs:/1ce9927f22a14719a2783875e4a159a6/spark-model' resolved as 's3://kc-mlflow/12/1ce9927f22a14719a2783875e4a159a6/artifacts/spark-model'\n",
      "2021/11/23 14:17:00 INFO mlflow.spark: URI 's3://kc-mlflow/12/1ce9927f22a14719a2783875e4a159a6/artifacts/spark-model/sparkml' does not point to the current DFS.\n",
      "2021/11/23 14:17:00 INFO mlflow.spark: File 's3://kc-mlflow/12/1ce9927f22a14719a2783875e4a159a6/artifacts/spark-model/sparkml' not found on DFS. Will attempt to upload the file.\n"
     ]
    }
   ],
   "source": [
    "model = mlflow.spark.load_model(f'runs:/{run_id}/spark-model')"
   ]
  },
  {
   "cell_type": "code",
   "execution_count": 41,
   "id": "1f3ea74a-8beb-441d-857f-35c2f156a20a",
   "metadata": {},
   "outputs": [
    {
     "data": {
      "text/plain": [
       "pyspark.ml.pipeline.PipelineModel"
      ]
     },
     "execution_count": 41,
     "metadata": {},
     "output_type": "execute_result"
    }
   ],
   "source": [
    "type(model)"
   ]
  },
  {
   "cell_type": "code",
   "execution_count": null,
   "id": "e80fbd94-3c74-4d07-b5a0-b60f747a033e",
   "metadata": {},
   "outputs": [],
   "source": []
  }
 ],
 "metadata": {
  "kernelspec": {
   "display_name": "Python 3 (ipykernel)",
   "language": "python",
   "name": "python3"
  },
  "language_info": {
   "codemirror_mode": {
    "name": "ipython",
    "version": 3
   },
   "file_extension": ".py",
   "mimetype": "text/x-python",
   "name": "python",
   "nbconvert_exporter": "python",
   "pygments_lexer": "ipython3",
   "version": "3.8.10"
  }
 },
 "nbformat": 4,
 "nbformat_minor": 5
}
